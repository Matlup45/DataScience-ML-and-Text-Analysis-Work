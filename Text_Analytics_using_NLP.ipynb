{
  "nbformat": 4,
  "nbformat_minor": 0,
  "metadata": {
    "colab": {
      "provenance": [],
      "authorship_tag": "ABX9TyP43AEdz7QJVCW1m0gygiKg",
      "include_colab_link": true
    },
    "kernelspec": {
      "name": "python3",
      "display_name": "Python 3"
    },
    "language_info": {
      "name": "python"
    }
  },
  "cells": [
    {
      "cell_type": "markdown",
      "metadata": {
        "id": "view-in-github",
        "colab_type": "text"
      },
      "source": [
        "<a href=\"https://colab.research.google.com/github/Matlup45/Text-Analysis/blob/main/Text_Analytics_using_NLP.ipynb\" target=\"_parent\"><img src=\"https://colab.research.google.com/assets/colab-badge.svg\" alt=\"Open In Colab\"/></a>"
      ]
    },
    {
      "cell_type": "code",
      "execution_count": null,
      "metadata": {
        "id": "fDMS0ZKQH3sA",
        "colab": {
          "base_uri": "https://localhost:8080/"
        },
        "outputId": "f7101840-e8e8-4af8-98e6-5bf48045d9c1"
      },
      "outputs": [
        {
          "output_type": "stream",
          "name": "stdout",
          "text": [
            "Requirement already satisfied: PyPDF2 in /usr/local/lib/python3.10/dist-packages (3.0.1)\n"
          ]
        }
      ],
      "source": [
        "pip install PyPDF2"
      ]
    },
    {
      "cell_type": "markdown",
      "source": [],
      "metadata": {
        "id": "fwylcbBwYY9a"
      }
    },
    {
      "cell_type": "markdown",
      "source": [
        "***it is used to cropping, and transforming the pages of PDF files***"
      ],
      "metadata": {
        "id": "bbtBvvbEJHpz"
      }
    },
    {
      "cell_type": "code",
      "source": [
        "import nltk\n",
        "nltk.download('punkt')"
      ],
      "metadata": {
        "id": "H-W9vBCSJYJq",
        "colab": {
          "base_uri": "https://localhost:8080/"
        },
        "outputId": "24563470-e319-44de-f4e9-d3506764930c"
      },
      "execution_count": null,
      "outputs": [
        {
          "output_type": "stream",
          "name": "stderr",
          "text": [
            "[nltk_data] Downloading package punkt to /root/nltk_data...\n",
            "[nltk_data]   Package punkt is already up-to-date!\n"
          ]
        },
        {
          "output_type": "execute_result",
          "data": {
            "text/plain": [
              "True"
            ]
          },
          "metadata": {},
          "execution_count": 13
        }
      ]
    },
    {
      "cell_type": "markdown",
      "source": [
        "By downloading the Punkt tokenizer models, it become capable of performing tokenization tasks\n",
        "\n",
        "*In the code, NLTK is used for sentence tokenization (sent_tokenize) to break the extracted text into sentences before performing text summarization.*"
      ],
      "metadata": {
        "id": "OIVHQ8_1Juvc"
      }
    },
    {
      "cell_type": "code",
      "source": [
        "pip install PyMuPDF sumy"
      ],
      "metadata": {
        "id": "3oKpes0qIbFk",
        "colab": {
          "base_uri": "https://localhost:8080/"
        },
        "outputId": "063e896f-af19-402b-cfd5-cb3372015a67"
      },
      "execution_count": null,
      "outputs": [
        {
          "output_type": "stream",
          "name": "stdout",
          "text": [
            "Requirement already satisfied: PyMuPDF in /usr/local/lib/python3.10/dist-packages (1.23.3)\n",
            "Requirement already satisfied: sumy in /usr/local/lib/python3.10/dist-packages (0.11.0)\n",
            "Requirement already satisfied: PyMuPDFb==1.23.3 in /usr/local/lib/python3.10/dist-packages (from PyMuPDF) (1.23.3)\n",
            "Requirement already satisfied: docopt<0.7,>=0.6.1 in /usr/local/lib/python3.10/dist-packages (from sumy) (0.6.2)\n",
            "Requirement already satisfied: breadability>=0.1.20 in /usr/local/lib/python3.10/dist-packages (from sumy) (0.1.20)\n",
            "Requirement already satisfied: requests>=2.7.0 in /usr/local/lib/python3.10/dist-packages (from sumy) (2.31.0)\n",
            "Requirement already satisfied: pycountry>=18.2.23 in /usr/local/lib/python3.10/dist-packages (from sumy) (22.3.5)\n",
            "Requirement already satisfied: nltk>=3.0.2 in /usr/local/lib/python3.10/dist-packages (from sumy) (3.8.1)\n",
            "Requirement already satisfied: chardet in /usr/local/lib/python3.10/dist-packages (from breadability>=0.1.20->sumy) (5.2.0)\n",
            "Requirement already satisfied: lxml>=2.0 in /usr/local/lib/python3.10/dist-packages (from breadability>=0.1.20->sumy) (4.9.3)\n",
            "Requirement already satisfied: click in /usr/local/lib/python3.10/dist-packages (from nltk>=3.0.2->sumy) (8.1.7)\n",
            "Requirement already satisfied: joblib in /usr/local/lib/python3.10/dist-packages (from nltk>=3.0.2->sumy) (1.3.2)\n",
            "Requirement already satisfied: regex>=2021.8.3 in /usr/local/lib/python3.10/dist-packages (from nltk>=3.0.2->sumy) (2023.6.3)\n",
            "Requirement already satisfied: tqdm in /usr/local/lib/python3.10/dist-packages (from nltk>=3.0.2->sumy) (4.66.1)\n",
            "Requirement already satisfied: setuptools in /usr/local/lib/python3.10/dist-packages (from pycountry>=18.2.23->sumy) (67.7.2)\n",
            "Requirement already satisfied: charset-normalizer<4,>=2 in /usr/local/lib/python3.10/dist-packages (from requests>=2.7.0->sumy) (3.2.0)\n",
            "Requirement already satisfied: idna<4,>=2.5 in /usr/local/lib/python3.10/dist-packages (from requests>=2.7.0->sumy) (3.4)\n",
            "Requirement already satisfied: urllib3<3,>=1.21.1 in /usr/local/lib/python3.10/dist-packages (from requests>=2.7.0->sumy) (2.0.4)\n",
            "Requirement already satisfied: certifi>=2017.4.17 in /usr/local/lib/python3.10/dist-packages (from requests>=2.7.0->sumy) (2023.7.22)\n"
          ]
        }
      ]
    },
    {
      "cell_type": "markdown",
      "source": [
        "**It enabling code to perform tasks related to PDF text extraction and text summarization.**"
      ],
      "metadata": {
        "id": "Fb0-B1_IKd9N"
      }
    },
    {
      "cell_type": "code",
      "source": [
        "import PyPDF2\n",
        "import fitz  # PyMuPDF\n",
        "from nltk.tokenize import sent_tokenize\n",
        "\n",
        "# extracting text from a PDF file\n",
        "def extract_text_from_pdf(pdf_file):\n",
        "    text = \"\"\n",
        "    pdf_document = fitz.open(pdf_file)\n",
        "    for page_number in range(len(pdf_document)):\n",
        "        page = pdf_document[page_number]\n",
        "        text += page.get_text()\n",
        "    return text\n",
        "\n",
        "# Summarizing the extracted text\n",
        "def summarize_text(text, max_words=500):\n",
        "    sentences = sent_tokenize(text)\n",
        "    summary = []\n",
        "\n",
        "    word_count = 0\n",
        "    for sentence in sentences:\n",
        "        words = sentence.split()\n",
        "        if word_count + len(words) <= max_words:\n",
        "            summary.append(sentence)\n",
        "            word_count += len(words)\n",
        "        else:\n",
        "            break\n",
        "\n",
        "    summarized_text = '\\n'.join(summary)\n",
        "    return summarized_text\n",
        "\n",
        "if __name__ == \"__main__\":\n",
        "    pdf_file = \"/content/Operations Management.pdf\"\n",
        "    extracted_text = extract_text_from_pdf(pdf_file)\n",
        "\n",
        "\n",
        "    summarized_text = summarize_text(extracted_text, max_words=500)\n",
        "\n",
        "    print(\"Summarized Text (Max 500 words):\")\n",
        "    print(summarized_text)\n"
      ],
      "metadata": {
        "id": "V7G3XwCvIlv1",
        "colab": {
          "base_uri": "https://localhost:8080/"
        },
        "outputId": "37105f56-1b8d-4d95-94b1-06b79b66081f"
      },
      "execution_count": null,
      "outputs": [
        {
          "output_type": "stream",
          "name": "stdout",
          "text": [
            "Summarized Text (Max 500 words):\n",
            "Operations Management: Oil and Gas\n",
            "Report\n",
            "Introduction\n",
            "Operations management is a branch of management that deals with the\n",
            "designing and supervision of operational processes in a business organization.\n",
            "Operations management covers the responsibility over all processes that involve\n",
            "the production of goods and services as well as the delivery of such productions\n",
            "to the final consumers.\n",
            "In its duties, an operations management department ensures that processes are\n",
            "planned for and executed in an efficient and effective way to satisfy the needs of\n",
            "the organization and its customers.\n",
            "This paper seeks to discuss concepts of\n",
            "operations management.\n",
            "The paper will look into the history, functions, case studies, advantages,\n",
            "disadvantages and factors that affect the department among others.\n",
            "The paper\n",
            "will then look into the operations management’s involvement in oil and gas\n",
            "companies.\n",
            "Operations Management\n",
            "Business enterprises entail the provision of goods and services to their\n",
            "immediate customers.\n",
            "For the finished goods or offered services to be available\n",
            "to consumers in a state that will satisfy the needs and desires of the consumers,\n",
            "measures must be undertaken by the producing organization to ensure that\n",
            "quality, quantity as well as the time frame of the production is appropriate with\n",
            "respect to the demands of consumers.\n",
            "Meeting the needs of consumers is, however, a process that begins with the\n",
            "search for raw materials which are then processed to be goods and finally\n",
            "supplied to the consumers.\n",
            "Processes of activities such as extraction of raw materials or resources, their\n",
            "transportation, their processing and their final distribution involve operational\n",
            "activities.\n",
            "It is the move to supervise and manage these activities that derives the\n",
            "basis of operations management.\n",
            "Operations management ensures “effective\n",
            "management of resources and activities that produce or deliver goods and\n",
            "services of any business” (Sox 1).\n",
            "Operations management therefore involves the management of “people,\n",
            "materials, equipments and information resources that a business may need” (Sox\n",
            "1) in its daily activities.\n",
            "The department thus outlines and then manages all that\n",
            "pertains to the production of goods and services.\n",
            "The operations management is actually dominant in almost every stage of any\n",
            "given supply chain and is diverse with a variety of titles that at time can include\n",
            "“production planner, inventory manager, logistics manager, procurement\n",
            "manager and supply chain manager” (Sox 1) among others.\n",
            "History of Operations Management\n",
            "The history of operations management stems all the way back to the eighteenth\n",
            "century.\n",
            "In the management of production activities, operations changes were, for\n",
            "example, realized in the labor system.\n",
            "In England, for instance, the textile\n",
            "industry registered operational changes with human labor being replaced with the\n",
            "use of machines.\n",
            "Inventions of industrial equipments also lead to adjustment in\n",
            "methods of production in the textile industry at the time.\n",
            "In the year 1785, steam engine was invented providing more options in the\n",
            "operations field.\n",
            "Administration of operations activities in business aspects,\n",
            "however, took its significant development in the twentieth century with\n",
            "introduction of theories and principles over how operations should be sufficiently\n",
            "managed.\n"
          ]
        }
      ]
    }
  ]
}